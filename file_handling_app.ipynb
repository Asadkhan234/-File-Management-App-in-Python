{
 "cells": [
  {
   "cell_type": "code",
   "execution_count": 8,
   "id": "75826756-0221-445f-a40d-e329b5119bbf",
   "metadata": {},
   "outputs": [],
   "source": [
    "import os"
   ]
  },
  {
   "cell_type": "code",
   "execution_count": 12,
   "id": "925bcb04-6f0f-4f5d-8958-020ef5842c91",
   "metadata": {},
   "outputs": [
    {
     "name": "stdout",
     "output_type": "stream",
     "text": [
      "File Managemeny App: \n",
      "1 : To Create File \n",
      "2 : To Veiw All File \n",
      "3 : To Delete File \n",
      "4 : To Read File \n",
      "5 : To Edit File \n",
      "6 : To Exit File \n"
     ]
    },
    {
     "name": "stdin",
     "output_type": "stream",
     "text": [
      "Enter Your Choice :  1\n",
      "Enter Your File name:  set.ipynb\n"
     ]
    },
    {
     "name": "stdout",
     "output_type": "stream",
     "text": [
      "File name set.ipynb Created Successully!\n",
      "File Managemeny App: \n",
      "1 : To Create File \n",
      "2 : To Veiw All File \n",
      "3 : To Delete File \n",
      "4 : To Read File \n",
      "5 : To Edit File \n",
      "6 : To Exit File \n"
     ]
    },
    {
     "name": "stdin",
     "output_type": "stream",
     "text": [
      "Enter Your Choice :  5\n",
      "Enter Your File name:  set\n",
      "Enter The Text :  this is ipynb file for text\n"
     ]
    },
    {
     "name": "stdout",
     "output_type": "stream",
     "text": [
      "Content Added in set Successully!\n",
      "File Managemeny App: \n",
      "1 : To Create File \n",
      "2 : To Veiw All File \n",
      "3 : To Delete File \n",
      "4 : To Read File \n",
      "5 : To Edit File \n",
      "6 : To Exit File \n"
     ]
    },
    {
     "name": "stdin",
     "output_type": "stream",
     "text": [
      "Enter Your Choice :  4\n",
      "Enter Your File name:  set\n"
     ]
    },
    {
     "name": "stdout",
     "output_type": "stream",
     "text": [
      "content of set file is : /n this is ipynb file for text/n\n",
      "File Managemeny App: \n",
      "1 : To Create File \n",
      "2 : To Veiw All File \n",
      "3 : To Delete File \n",
      "4 : To Read File \n",
      "5 : To Edit File \n",
      "6 : To Exit File \n"
     ]
    },
    {
     "name": "stdin",
     "output_type": "stream",
     "text": [
      "Enter Your Choice :  3\n",
      "Enter Your File name:  set\n"
     ]
    },
    {
     "name": "stdout",
     "output_type": "stream",
     "text": [
      "File set Not Found!\n",
      "File Managemeny App: \n",
      "1 : To Create File \n",
      "2 : To Veiw All File \n",
      "3 : To Delete File \n",
      "4 : To Read File \n",
      "5 : To Edit File \n",
      "6 : To Exit File \n"
     ]
    },
    {
     "name": "stdin",
     "output_type": "stream",
     "text": [
      "Enter Your Choice :  3\n",
      "Enter Your File name:  set.ipynb\n"
     ]
    },
    {
     "name": "stdout",
     "output_type": "stream",
     "text": [
      "File set.ipynb Deleted Successfully!\n",
      "File Managemeny App: \n",
      "1 : To Create File \n",
      "2 : To Veiw All File \n",
      "3 : To Delete File \n",
      "4 : To Read File \n",
      "5 : To Edit File \n",
      "6 : To Exit File \n"
     ]
    },
    {
     "name": "stdin",
     "output_type": "stream",
     "text": [
      "Enter Your Choice :  6\n"
     ]
    },
    {
     "name": "stdout",
     "output_type": "stream",
     "text": [
      "FIle is closing!\n"
     ]
    }
   ],
   "source": [
    "def crate_file(filename):\n",
    "    try:\n",
    "        with open(filename,'x') as f: # Here 'x' mode is working like to create new files\n",
    "            print(f'File name {filename} Created Successully!')\n",
    "    except FileExistsError:\n",
    "        print(f'File name {filename} already Exist !')\n",
    "    except Exception as e:\n",
    "        print('An Error Occur!')\n",
    "\n",
    "def view_all_files():\n",
    "    files = os.listdir() # return The File Names Which is Avalible in directory\n",
    "    if not files:\n",
    "        print(f'No files {files} Found!')\n",
    "    else:\n",
    "        print(f'Files {files} Found Success!')\n",
    "        for file in files:\n",
    "            print(files)\n",
    "\n",
    "\n",
    "def delete_file(filename):\n",
    "    try:\n",
    "        os.remove(filename)\n",
    "        print(f'File {filename} Deleted Successfully!')\n",
    "    except FileNotFoundError:    \n",
    "        print(f'File {filename} Not Found!')\n",
    "    except Exception as e:\n",
    "        print('An error Occur!')\n",
    "\n",
    "\n",
    "def read_file(filename):\n",
    "    try:\n",
    "        with open('myfile.txt','r') as f:\n",
    "            con = f.read()\n",
    "            print(f'content of {filename} file is : /n {con}')\n",
    "    except FileNotFoundError:    \n",
    "        print(f'File {filename} Not Found!')\n",
    "    except Exception as e:\n",
    "        print('An error Occur!')       \n",
    "\n",
    "\n",
    "def edit_file(filename):\n",
    "    try:\n",
    "        with open('myfile.txt','w') as f:            \n",
    "            con = input('Enter The Text : ')\n",
    "            f.write(con +'/n')\n",
    "            print(f'Content Added in {filename} Successully!')\n",
    "    except FileNotFoundError:    \n",
    "        print(f'File {filename} Not Found!')\n",
    "    except Exception as e:\n",
    "        print('An error Occur!')       \n",
    "\n",
    "\n",
    "def main():\n",
    "    while True:\n",
    "        print('File Managemeny App: ')\n",
    "        print('1 : To Create File ')\n",
    "        print('2 : To Veiw All File ')\n",
    "        print('3 : To Delete File ')\n",
    "        print('4 : To Read File ')\n",
    "        print('5 : To Edit File ')\n",
    "        print('6 : To Exit File ')\n",
    "\n",
    "\n",
    "        choice = int(input('Enter Your Choice : '))\n",
    "        if choice == 1:\n",
    "            filename = input('Enter Your File name: ')\n",
    "            crate_file(filename)\n",
    "            \n",
    "        elif choice == 2:\n",
    "            view_all_files()\n",
    "\n",
    "        elif choice == 3:\n",
    "            filename = input('Enter Your File name: ')\n",
    "            delete_file(filename)\n",
    "\n",
    "\n",
    "        elif choice == 4:\n",
    "            filename = input('Enter Your File name: ')\n",
    "            read_file(filename)\n",
    "\n",
    "\n",
    "        elif choice == 5:\n",
    "            filename = input('Enter Your File name: ')\n",
    "            edit_file(filename)\n",
    "\n",
    "\n",
    "\n",
    "        elif choice == 6:\n",
    "            print('FIle is closing!')\n",
    "            break\n",
    "\n",
    "\n",
    "        else:\n",
    "            print('Invalid Syntax !')\n",
    "\n",
    "\n",
    "main()\n",
    "        "
   ]
  },
  {
   "cell_type": "code",
   "execution_count": null,
   "id": "47409230-4273-4e0f-8bb0-b55e6ad28fe4",
   "metadata": {},
   "outputs": [],
   "source": []
  }
 ],
 "metadata": {
  "kernelspec": {
   "display_name": "Python [conda env:base] *",
   "language": "python",
   "name": "conda-base-py"
  },
  "language_info": {
   "codemirror_mode": {
    "name": "ipython",
    "version": 3
   },
   "file_extension": ".py",
   "mimetype": "text/x-python",
   "name": "python",
   "nbconvert_exporter": "python",
   "pygments_lexer": "ipython3",
   "version": "3.12.7"
  }
 },
 "nbformat": 4,
 "nbformat_minor": 5
}
